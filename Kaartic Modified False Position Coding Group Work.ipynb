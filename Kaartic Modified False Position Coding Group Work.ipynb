{
 "cells": [
  {
   "cell_type": "code",
   "execution_count": 36,
   "id": "5ce8eee3",
   "metadata": {},
   "outputs": [
    {
     "name": "stdout",
     "output_type": "stream",
     "text": [
      "You have not assumed right a and b\n"
     ]
    },
    {
     "data": {
      "text/plain": [
       "-1"
      ]
     },
     "execution_count": 36,
     "metadata": {},
     "output_type": "execute_result"
    }
   ],
   "source": [
    "MAX_ITER = 1000000\n",
    "  \n",
    "import numpy as np\n",
    "\n",
    "def func(x, alpha, L, D, W, gamma):\n",
    "    term_1 = -L * np.cos(alpha)\n",
    "    term_2 = -D * np.sin(alpha)\n",
    "    term_3 = W * np.cos(alpha + gamma)\n",
    "    return term_1 + term_2 + term_3\n",
    "\n",
    "def regulaFalsi(a, b, alpha, L, D, W, gamma):\n",
    "    if func(a, alpha, L, D, W, gamma) * func(b, alpha, L, D, W, gamma) >= 0:\n",
    "        print(\"You have not assumed right a and b\")\n",
    "        return -1\n",
    "\n",
    "    c = a  # Initialize result\n",
    "\n",
    "    for i in range(MAX_ITER):\n",
    "        c = (a * 0.5 * func(b, alpha, L, D, W, gamma) - b * func(a, alpha, L, D, W, gamma)) / (0.5 * func(b, alpha, L, D, W, gamma) - func(a, alpha, L, D, W, gamma))\n",
    "\n",
    "        if func(c, alpha, L, D, W, gamma) == 0:\n",
    "            break\n",
    "        elif func(c, alpha, L, D, W, gamma) * func(a, alpha, L, D, W, gamma) < 0:\n",
    "            b = c\n",
    "        else:\n",
    "            a = c\n",
    "\n",
    "    print(\"The value of the root is:\", '%.4f' % c)\n",
    "    print(\"Number of iterations:\", i)\n",
    "\n",
    "a = -10\n",
    "b = 10\n",
    "L = 1\n",
    "D = 2\n",
    "W = 3\n",
    "gamma = np.pi/3\n",
    "alpha = 0\n",
    "\n",
    "regulaFalsi(a, b, alpha, L, D, W, gamma)"
   ]
  }
 ],
 "metadata": {
  "kernelspec": {
   "display_name": "Python 3 (ipykernel)",
   "language": "python",
   "name": "python3"
  },
  "language_info": {
   "codemirror_mode": {
    "name": "ipython",
    "version": 3
   },
   "file_extension": ".py",
   "mimetype": "text/x-python",
   "name": "python",
   "nbconvert_exporter": "python",
   "pygments_lexer": "ipython3",
   "version": "3.11.5"
  }
 },
 "nbformat": 4,
 "nbformat_minor": 5
}
